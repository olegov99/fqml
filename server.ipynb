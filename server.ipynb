{
 "cells": [
  {
   "cell_type": "code",
   "execution_count": 1,
   "id": "61402197",
   "metadata": {},
   "outputs": [],
   "source": [
    "import tensorflow as tf\n",
    "import tensorflow_quantum as tfq\n",
    "import flwr as fl\n",
    "from typing import Optional, Tuple\n",
    "\n",
    "import cirq\n",
    "import sympy\n",
    "import numpy as np\n",
    "import seaborn as sns\n",
    "import collections\n",
    "\n",
    "# visualization tools\n",
    "%matplotlib inline\n",
    "import matplotlib.pyplot as plt\n",
    "from cirq.contrib.svg import SVGCircuit\n",
    "\n",
    "tf.config.run_functions_eagerly(True)"
   ]
  },
  {
   "cell_type": "code",
   "execution_count": 2,
   "id": "97d5396d",
   "metadata": {},
   "outputs": [
    {
     "name": "stdout",
     "output_type": "stream",
     "text": [
      "Number of original training examples: 60000\n",
      "Number of original test examples: 4000\n"
     ]
    }
   ],
   "source": [
    "(x_train, y_train), (x_test, y_test) = tf.keras.datasets.mnist.load_data()\n",
    "x_test = x_test[6000:10000]\n",
    "y_test = y_test[6000:10000]\n",
    "\n",
    "\n",
    "x_train, x_test = x_train[..., np.newaxis]/255.0, x_test[..., np.newaxis]/255.0\n",
    "\n",
    "print(\"Number of original training examples:\", len(x_train))\n",
    "print(\"Number of original test examples:\", len(x_test))"
   ]
  },
  {
   "cell_type": "code",
   "execution_count": 3,
   "id": "dd7695a0",
   "metadata": {},
   "outputs": [],
   "source": [
    "def filter_36(x, y):\n",
    "    keep = (y == 3) | (y == 6)\n",
    "    x, y = x[keep], y[keep]\n",
    "    y = y == 3\n",
    "    return x,y"
   ]
  },
  {
   "cell_type": "code",
   "execution_count": 4,
   "id": "8e8c475d",
   "metadata": {},
   "outputs": [
    {
     "name": "stdout",
     "output_type": "stream",
     "text": [
      "Number of filtered training examples: 12049\n",
      "Number of filtered test examples: 811\n"
     ]
    }
   ],
   "source": [
    "x_train, y_train = filter_36(x_train, y_train)\n",
    "x_test, y_test = filter_36(x_test, y_test)\n",
    "\n",
    "print(\"Number of filtered training examples:\", len(x_train))\n",
    "print(\"Number of filtered test examples:\", len(x_test))"
   ]
  },
  {
   "cell_type": "code",
   "execution_count": 5,
   "id": "7759176f",
   "metadata": {},
   "outputs": [],
   "source": [
    "x_train_small = tf.image.resize(x_train, (4,4)).numpy()\n",
    "x_test_small = tf.image.resize(x_test, (4,4)).numpy()"
   ]
  },
  {
   "cell_type": "code",
   "execution_count": 6,
   "id": "7a410c04",
   "metadata": {},
   "outputs": [],
   "source": [
    "def remove_contradicting(xs, ys):\n",
    "    mapping = collections.defaultdict(set)\n",
    "    orig_x = {}\n",
    "    # Determine the set of labels for each unique image:\n",
    "    for x,y in zip(xs,ys):\n",
    "       orig_x[tuple(x.flatten())] = x\n",
    "       mapping[tuple(x.flatten())].add(y)\n",
    "\n",
    "    new_x = []\n",
    "    new_y = []\n",
    "    for flatten_x in mapping:\n",
    "      x = orig_x[flatten_x]\n",
    "      labels = mapping[flatten_x]\n",
    "      if len(labels) == 1:\n",
    "          new_x.append(x)\n",
    "          new_y.append(next(iter(labels)))\n",
    "      else:\n",
    "          # Throw out images that match more than one label.\n",
    "          pass\n",
    "\n",
    "    num_uniq_3 = sum(1 for value in mapping.values() if len(value) == 1 and True in value)\n",
    "    num_uniq_6 = sum(1 for value in mapping.values() if len(value) == 1 and False in value)\n",
    "    num_uniq_both = sum(1 for value in mapping.values() if len(value) == 2)\n",
    "\n",
    "    print(\"Number of unique images:\", len(mapping.values()))\n",
    "    print(\"Number of unique 3s: \", num_uniq_3)\n",
    "    print(\"Number of unique 6s: \", num_uniq_6)\n",
    "    print(\"Number of unique contradicting labels (both 3 and 6): \", num_uniq_both)\n",
    "    print()\n",
    "    print(\"Initial number of images: \", len(xs))\n",
    "    print(\"Remaining non-contradicting unique images: \", len(new_x))\n",
    "\n",
    "    return np.array(new_x), np.array(new_y)"
   ]
  },
  {
   "cell_type": "code",
   "execution_count": 7,
   "id": "80a62091",
   "metadata": {},
   "outputs": [
    {
     "name": "stdout",
     "output_type": "stream",
     "text": [
      "Number of unique images: 10387\n",
      "Number of unique 3s:  4912\n",
      "Number of unique 6s:  5426\n",
      "Number of unique contradicting labels (both 3 and 6):  49\n",
      "\n",
      "Initial number of images:  12049\n",
      "Remaining non-contradicting unique images:  10338\n"
     ]
    }
   ],
   "source": [
    "x_train_nocon, y_train_nocon = remove_contradicting(x_train_small, y_train)"
   ]
  },
  {
   "cell_type": "code",
   "execution_count": 8,
   "id": "f44e57e2",
   "metadata": {},
   "outputs": [],
   "source": [
    "THRESHOLD = 0.5\n",
    "\n",
    "x_train_bin = np.array(x_train_nocon > THRESHOLD, dtype=np.float32)\n",
    "x_test_bin = np.array(x_test_small > THRESHOLD, dtype=np.float32)"
   ]
  },
  {
   "cell_type": "code",
   "execution_count": 9,
   "id": "035bfbe5",
   "metadata": {},
   "outputs": [],
   "source": [
    "def convert_to_circuit(image):\n",
    "    \"\"\"Encode truncated classical image into quantum datapoint.\"\"\"\n",
    "    values = np.ndarray.flatten(image)\n",
    "    qubits = cirq.GridQubit.rect(4, 4)\n",
    "    circuit = cirq.Circuit()\n",
    "    for i, value in enumerate(values):\n",
    "        if value:\n",
    "            circuit.append(cirq.X(qubits[i]))\n",
    "    return circuit\n",
    "\n",
    "\n",
    "x_train_circ = [convert_to_circuit(x) for x in x_train_bin]\n",
    "x_test_circ = [convert_to_circuit(x) for x in x_test_bin]"
   ]
  },
  {
   "cell_type": "code",
   "execution_count": 10,
   "id": "640c0a0e",
   "metadata": {},
   "outputs": [],
   "source": [
    "x_train_tfcirc = tfq.convert_to_tensor(x_train_circ)\n",
    "x_test_tfcirc = tfq.convert_to_tensor(x_test_circ)"
   ]
  },
  {
   "cell_type": "code",
   "execution_count": 11,
   "id": "c6a083d8",
   "metadata": {},
   "outputs": [],
   "source": [
    "class CircuitLayerBuilder():\n",
    "    def __init__(self, data_qubits, readout):\n",
    "        self.data_qubits = data_qubits\n",
    "        self.readout = readout\n",
    "\n",
    "    def add_layer(self, circuit, gate, prefix):\n",
    "        for i, qubit in enumerate(self.data_qubits):\n",
    "            symbol = sympy.Symbol(prefix + '-' + str(i))\n",
    "            circuit.append(gate(qubit, self.readout)**symbol)"
   ]
  },
  {
   "cell_type": "code",
   "execution_count": 12,
   "id": "51b106b9",
   "metadata": {},
   "outputs": [],
   "source": [
    "def create_quantum_model():\n",
    "    \"\"\"Create a QNN model circuit and readout operation to go along with it.\"\"\"\n",
    "    data_qubits = cirq.GridQubit.rect(4, 4)  # a 4x4 grid.\n",
    "    readout = cirq.GridQubit(-1, -1)         # a single qubit at [-1,-1]\n",
    "    circuit = cirq.Circuit()\n",
    "\n",
    "    # Prepare the readout qubit.\n",
    "    circuit.append(cirq.X(readout))\n",
    "    circuit.append(cirq.H(readout))\n",
    "\n",
    "    builder = CircuitLayerBuilder(\n",
    "        data_qubits = data_qubits,\n",
    "        readout=readout)\n",
    "\n",
    "    # Then add layers (experiment by adding more).\n",
    "    builder.add_layer(circuit, cirq.XX, \"xx1\")\n",
    "    builder.add_layer(circuit, cirq.ZZ, \"zz1\")\n",
    "\n",
    "    # Finally, prepare the readout qubit.\n",
    "    circuit.append(cirq.H(readout))\n",
    "\n",
    "    return circuit, cirq.Z(readout)"
   ]
  },
  {
   "cell_type": "code",
   "execution_count": 13,
   "id": "62adf721",
   "metadata": {},
   "outputs": [],
   "source": [
    "model_circuit, model_readout = create_quantum_model()"
   ]
  },
  {
   "cell_type": "code",
   "execution_count": 14,
   "id": "93df27ab",
   "metadata": {},
   "outputs": [],
   "source": [
    "model = tf.keras.Sequential([\n",
    "    tf.keras.layers.Input(shape=(), dtype=tf.string),\n",
    "    tfq.layers.PQC(model_circuit, model_readout),\n",
    "])"
   ]
  },
  {
   "cell_type": "code",
   "execution_count": 15,
   "id": "4282b2ac",
   "metadata": {},
   "outputs": [],
   "source": [
    "y_train_hinge = 2.0*y_train_nocon-1.0\n",
    "y_test_hinge = 2.0*y_test-1.0"
   ]
  },
  {
   "cell_type": "code",
   "execution_count": 16,
   "id": "0f018ec5",
   "metadata": {},
   "outputs": [],
   "source": [
    "def hinge_accuracy(y_true, y_pred):\n",
    "    y_true = tf.squeeze(y_true) > 0.0\n",
    "    y_pred = tf.squeeze(y_pred) > 0.0\n",
    "    result = tf.cast(y_true == y_pred, tf.float32)\n",
    "\n",
    "    return tf.reduce_mean(result)"
   ]
  },
  {
   "cell_type": "code",
   "execution_count": 17,
   "id": "36eab521",
   "metadata": {},
   "outputs": [],
   "source": [
    "model.compile(\n",
    "    loss=tf.keras.losses.Hinge(),\n",
    "    optimizer=tf.keras.optimizers.Adam(),\n",
    "    metrics=[hinge_accuracy])"
   ]
  },
  {
   "cell_type": "code",
   "execution_count": 18,
   "id": "2decb834",
   "metadata": {},
   "outputs": [
    {
     "name": "stdout",
     "output_type": "stream",
     "text": [
      "Model: \"sequential\"\n",
      "_________________________________________________________________\n",
      "Layer (type)                 Output Shape              Param #   \n",
      "=================================================================\n",
      "pqc (PQC)                    (None, 1)                 32        \n",
      "=================================================================\n",
      "Total params: 32\n",
      "Trainable params: 32\n",
      "Non-trainable params: 0\n",
      "_________________________________________________________________\n",
      "None\n"
     ]
    }
   ],
   "source": [
    "print(model.summary())"
   ]
  },
  {
   "cell_type": "code",
   "execution_count": 20,
   "id": "b8d8069b",
   "metadata": {},
   "outputs": [],
   "source": [
    "quantum_model_history = {'loss': [], 'accuracy': []}\n",
    "\n",
    "\n",
    "def get_eval_fn(model, x_test_data, y_test_data, model_history):\n",
    "    \"\"\"Return an evaluation function for server-side evaluation.\"\"\"\n",
    "    def evaluate(weights: fl.common.Weights) -> Optional[Tuple[float, float]]:\n",
    "        model.set_weights(weights)  # Update model with the latest parameters\n",
    "        loss, accuracy = model.evaluate(x_test_data, y_test_data)\n",
    "        model_history['loss'].append(loss)\n",
    "        model_history['accuracy'].append(accuracy)\n",
    "        return loss, {\"accuracy\": accuracy}\n",
    "\n",
    "    return evaluate\n",
    "\n",
    "\n",
    "strategy = fl.server.strategy.FedAvg(\n",
    "    eval_fn=get_eval_fn(model, x_test_tfcirc, y_test, quantum_model_history),\n",
    "    fraction_eval=1,\n",
    "    min_eval_clients=3,\n",
    "    min_available_clients=3,\n",
    ")"
   ]
  },
  {
   "cell_type": "code",
   "execution_count": 21,
   "id": "9ef1515a",
   "metadata": {},
   "outputs": [
    {
     "name": "stderr",
     "output_type": "stream",
     "text": [
      "INFO flower 2021-12-24 17:12:25,064 | app.py:80 | Flower server running (insecure, 5 rounds)\n",
      "INFO flower 2021-12-24 17:12:25,064 | server.py:118 | Initializing global parameters\n",
      "INFO flower 2021-12-24 17:12:25,064 | server.py:304 | Requesting initial parameters from one random client\n",
      "INFO flower 2021-12-24 17:12:56,222 | server.py:307 | Received initial parameters from one random client\n",
      "INFO flower 2021-12-24 17:12:56,223 | server.py:120 | Evaluating initial parameters\n"
     ]
    },
    {
     "name": "stdout",
     "output_type": "stream",
     "text": [
      "\r",
      " 1/26 [>.............................] - ETA: 3s - loss: 1.0224 - hinge_accuracy: 0.3125"
     ]
    },
    {
     "name": "stderr",
     "output_type": "stream",
     "text": [
      "/home/frost/anaconda3/envs/fqml/lib/python3.7/site-packages/tensorflow/python/data/ops/dataset_ops.py:3504: UserWarning: Even though the tf.config.experimental_run_functions_eagerly option is set, this option does not apply to tf.data functions. tf.data functions are still traced and executed as graphs.\n",
      "  \"Even though the tf.config.experimental_run_functions_eagerly \"\n"
     ]
    },
    {
     "name": "stdout",
     "output_type": "stream",
     "text": [
      "26/26 [==============================] - 2s 74ms/step - loss: 1.0158 - hinge_accuracy: 0.4302\n"
     ]
    },
    {
     "name": "stderr",
     "output_type": "stream",
     "text": [
      "INFO flower 2021-12-24 17:12:58,251 | server.py:127 | initial parameters (loss, other metrics): 1.0111913681030273, {'accuracy': 0.47650787234306335}\n",
      "INFO flower 2021-12-24 17:12:58,251 | server.py:133 | FL starting\n",
      "DEBUG flower 2021-12-24 17:13:28,896 | server.py:255 | fit_round: strategy sampled 2 clients (out of 3)\n",
      "DEBUG flower 2021-12-24 17:14:48,419 | server.py:264 | fit_round received 2 results and 0 failures\n"
     ]
    },
    {
     "name": "stdout",
     "output_type": "stream",
     "text": [
      "26/26 [==============================] - 2s 75ms/step - loss: 0.8066 - hinge_accuracy: 0.8596\n"
     ]
    },
    {
     "name": "stderr",
     "output_type": "stream",
     "text": [
      "INFO flower 2021-12-24 17:14:50,387 | server.py:154 | fit progress: (1, 0.8065661787986755, {'accuracy': 0.8595935106277466}, 112.13548542399985)\n",
      "INFO flower 2021-12-24 17:14:50,388 | server.py:199 | evaluate_round: no clients selected, cancel\n",
      "DEBUG flower 2021-12-24 17:14:50,388 | server.py:255 | fit_round: strategy sampled 2 clients (out of 3)\n",
      "DEBUG flower 2021-12-24 17:16:14,759 | server.py:264 | fit_round received 2 results and 0 failures\n"
     ]
    },
    {
     "name": "stdout",
     "output_type": "stream",
     "text": [
      "26/26 [==============================] - 2s 76ms/step - loss: 0.5329 - hinge_accuracy: 0.8620\n"
     ]
    },
    {
     "name": "stderr",
     "output_type": "stream",
     "text": [
      "INFO flower 2021-12-24 17:16:16,779 | server.py:154 | fit progress: (2, 0.5329183340072632, {'accuracy': 0.8619973659515381}, 198.52661371700015)\n",
      "INFO flower 2021-12-24 17:16:16,779 | server.py:199 | evaluate_round: no clients selected, cancel\n",
      "DEBUG flower 2021-12-24 17:16:16,780 | server.py:255 | fit_round: strategy sampled 2 clients (out of 3)\n",
      "DEBUG flower 2021-12-24 17:17:38,322 | server.py:264 | fit_round received 2 results and 0 failures\n"
     ]
    },
    {
     "name": "stdout",
     "output_type": "stream",
     "text": [
      "26/26 [==============================] - 2s 86ms/step - loss: 0.3715 - hinge_accuracy: 0.8716\n"
     ]
    },
    {
     "name": "stderr",
     "output_type": "stream",
     "text": [
      "INFO flower 2021-12-24 17:17:40,594 | server.py:154 | fit progress: (3, 0.3714523911476135, {'accuracy': 0.8716127872467041}, 282.342039688001)\n",
      "INFO flower 2021-12-24 17:17:40,595 | server.py:199 | evaluate_round: no clients selected, cancel\n",
      "DEBUG flower 2021-12-24 17:17:40,595 | server.py:255 | fit_round: strategy sampled 2 clients (out of 3)\n",
      "DEBUG flower 2021-12-24 17:19:00,781 | server.py:264 | fit_round received 2 results and 0 failures\n"
     ]
    },
    {
     "name": "stdout",
     "output_type": "stream",
     "text": [
      "26/26 [==============================] - 2s 75ms/step - loss: 0.3197 - hinge_accuracy: 0.8716\n"
     ]
    },
    {
     "name": "stderr",
     "output_type": "stream",
     "text": [
      "INFO flower 2021-12-24 17:19:02,755 | server.py:154 | fit progress: (4, 0.3197277784347534, {'accuracy': 0.8716127872467041}, 364.5029470490008)\n",
      "INFO flower 2021-12-24 17:19:02,755 | server.py:199 | evaluate_round: no clients selected, cancel\n",
      "DEBUG flower 2021-12-24 17:19:02,756 | server.py:255 | fit_round: strategy sampled 2 clients (out of 3)\n",
      "DEBUG flower 2021-12-24 17:20:23,871 | server.py:264 | fit_round received 2 results and 0 failures\n"
     ]
    },
    {
     "name": "stdout",
     "output_type": "stream",
     "text": [
      "26/26 [==============================] - 2s 75ms/step - loss: 0.3090 - hinge_accuracy: 0.8704\n"
     ]
    },
    {
     "name": "stderr",
     "output_type": "stream",
     "text": [
      "INFO flower 2021-12-24 17:20:25,852 | server.py:154 | fit progress: (5, 0.30895328521728516, {'accuracy': 0.8704108595848083}, 447.599754846)\n",
      "INFO flower 2021-12-24 17:20:25,852 | server.py:199 | evaluate_round: no clients selected, cancel\n",
      "INFO flower 2021-12-24 17:20:25,852 | server.py:172 | FL finished in 447.60050407200106\n",
      "INFO flower 2021-12-24 17:20:25,853 | app.py:119 | app_fit: losses_distributed []\n",
      "INFO flower 2021-12-24 17:20:25,853 | app.py:120 | app_fit: metrics_distributed {}\n",
      "INFO flower 2021-12-24 17:20:25,854 | app.py:121 | app_fit: losses_centralized [(0, 1.0111913681030273), (1, 0.8065661787986755), (2, 0.5329183340072632), (3, 0.3714523911476135), (4, 0.3197277784347534), (5, 0.30895328521728516)]\n",
      "INFO flower 2021-12-24 17:20:25,854 | app.py:122 | app_fit: metrics_centralized {'accuracy': [(0, 0.47650787234306335), (1, 0.8595935106277466), (2, 0.8619973659515381), (3, 0.8716127872467041), (4, 0.8716127872467041), (5, 0.8704108595848083)]}\n"
     ]
    }
   ],
   "source": [
    "fl.server.start_server(config={\"num_rounds\": 5}, strategy=strategy)"
   ]
  },
  {
   "cell_type": "code",
   "execution_count": 23,
   "id": "4b213279",
   "metadata": {},
   "outputs": [],
   "source": [
    "def create_fair_classical_model():\n",
    "    # A simple model based off LeNet from https://keras.io/examples/mnist_cnn/\n",
    "    model = tf.keras.Sequential()\n",
    "    model.add(tf.keras.layers.Flatten(input_shape=(4,4,1)))\n",
    "    model.add(tf.keras.layers.Dense(2, activation='relu'))\n",
    "    model.add(tf.keras.layers.Dense(1))\n",
    "    return model\n",
    "\n",
    "\n",
    "model = create_fair_classical_model()\n",
    "model.compile(loss=tf.keras.losses.BinaryCrossentropy(from_logits=True),\n",
    "              optimizer=tf.keras.optimizers.Adam(),\n",
    "              metrics=['accuracy'])\n",
    "\n",
    "simple_model_history = {'loss': [], 'accuracy': []}\n",
    "\n",
    "\n",
    "strategy = fl.server.strategy.FedAvg(\n",
    "    eval_fn=get_eval_fn(model, x_test_bin, y_test, simple_model_history),\n",
    "    fraction_eval=0.2,\n",
    "    min_eval_clients=3,\n",
    "    min_available_clients=3,\n",
    ")"
   ]
  },
  {
   "cell_type": "code",
   "execution_count": 24,
   "id": "f20f3c77",
   "metadata": {},
   "outputs": [
    {
     "name": "stderr",
     "output_type": "stream",
     "text": [
      "INFO flower 2021-12-24 17:21:33,064 | app.py:80 | Flower server running (insecure, 5 rounds)\n",
      "INFO flower 2021-12-24 17:21:33,065 | server.py:118 | Initializing global parameters\n",
      "INFO flower 2021-12-24 17:21:33,065 | server.py:304 | Requesting initial parameters from one random client\n",
      "INFO flower 2021-12-24 17:22:17,067 | server.py:307 | Received initial parameters from one random client\n",
      "INFO flower 2021-12-24 17:22:17,068 | server.py:120 | Evaluating initial parameters\n"
     ]
    },
    {
     "name": "stdout",
     "output_type": "stream",
     "text": [
      "26/26 [==============================] - 0s 3ms/step - loss: 0.7104 - accuracy: 0.6023\n"
     ]
    },
    {
     "name": "stderr",
     "output_type": "stream",
     "text": [
      "INFO flower 2021-12-24 17:22:17,189 | server.py:127 | initial parameters (loss, other metrics): 0.7207560539245605, {'accuracy': 0.596794068813324}\n",
      "INFO flower 2021-12-24 17:22:17,190 | server.py:133 | FL starting\n",
      "DEBUG flower 2021-12-24 17:23:08,945 | server.py:255 | fit_round: strategy sampled 2 clients (out of 3)\n",
      "DEBUG flower 2021-12-24 17:23:09,768 | server.py:264 | fit_round received 2 results and 0 failures\n"
     ]
    },
    {
     "name": "stdout",
     "output_type": "stream",
     "text": [
      "26/26 [==============================] - 0s 3ms/step - loss: 0.6686 - accuracy: 0.5487\n"
     ]
    },
    {
     "name": "stderr",
     "output_type": "stream",
     "text": [
      "INFO flower 2021-12-24 17:23:09,877 | server.py:154 | fit progress: (1, 0.6686300039291382, {'accuracy': 0.5487052798271179}, 52.68718355400051)\n",
      "INFO flower 2021-12-24 17:23:09,878 | server.py:199 | evaluate_round: no clients selected, cancel\n",
      "DEBUG flower 2021-12-24 17:23:09,878 | server.py:255 | fit_round: strategy sampled 2 clients (out of 3)\n",
      "DEBUG flower 2021-12-24 17:23:10,736 | server.py:264 | fit_round received 2 results and 0 failures\n"
     ]
    },
    {
     "name": "stdout",
     "output_type": "stream",
     "text": [
      "26/26 [==============================] - 0s 3ms/step - loss: 0.6350 - accuracy: 0.5808\n"
     ]
    },
    {
     "name": "stderr",
     "output_type": "stream",
     "text": [
      "INFO flower 2021-12-24 17:23:10,838 | server.py:154 | fit progress: (2, 0.6349549293518066, {'accuracy': 0.5807644724845886}, 53.64840169800118)\n",
      "INFO flower 2021-12-24 17:23:10,839 | server.py:199 | evaluate_round: no clients selected, cancel\n",
      "DEBUG flower 2021-12-24 17:23:10,839 | server.py:255 | fit_round: strategy sampled 2 clients (out of 3)\n",
      "DEBUG flower 2021-12-24 17:23:11,638 | server.py:264 | fit_round received 2 results and 0 failures\n"
     ]
    },
    {
     "name": "stdout",
     "output_type": "stream",
     "text": [
      "26/26 [==============================] - 0s 3ms/step - loss: 0.5936 - accuracy: 0.7398\n"
     ]
    },
    {
     "name": "stderr",
     "output_type": "stream",
     "text": [
      "INFO flower 2021-12-24 17:23:11,751 | server.py:154 | fit progress: (3, 0.5935975313186646, {'accuracy': 0.7398273944854736}, 54.56110801000068)\n",
      "INFO flower 2021-12-24 17:23:11,751 | server.py:199 | evaluate_round: no clients selected, cancel\n",
      "DEBUG flower 2021-12-24 17:23:11,752 | server.py:255 | fit_round: strategy sampled 2 clients (out of 3)\n",
      "DEBUG flower 2021-12-24 17:23:12,611 | server.py:264 | fit_round received 2 results and 0 failures\n"
     ]
    },
    {
     "name": "stdout",
     "output_type": "stream",
     "text": [
      "26/26 [==============================] - 0s 3ms/step - loss: 0.5414 - accuracy: 0.7694\n"
     ]
    },
    {
     "name": "stderr",
     "output_type": "stream",
     "text": [
      "INFO flower 2021-12-24 17:23:12,732 | server.py:154 | fit progress: (4, 0.5413713455200195, {'accuracy': 0.7694204449653625}, 55.5421220900007)\n",
      "INFO flower 2021-12-24 17:23:12,733 | server.py:199 | evaluate_round: no clients selected, cancel\n",
      "DEBUG flower 2021-12-24 17:23:12,733 | server.py:255 | fit_round: strategy sampled 2 clients (out of 3)\n",
      "DEBUG flower 2021-12-24 17:23:13,597 | server.py:264 | fit_round received 2 results and 0 failures\n"
     ]
    },
    {
     "name": "stdout",
     "output_type": "stream",
     "text": [
      "26/26 [==============================] - 0s 3ms/step - loss: 0.4869 - accuracy: 0.8767\n"
     ]
    },
    {
     "name": "stderr",
     "output_type": "stream",
     "text": [
      "INFO flower 2021-12-24 17:23:13,702 | server.py:154 | fit progress: (5, 0.48689746856689453, {'accuracy': 0.876695454120636}, 56.512302415001614)\n",
      "INFO flower 2021-12-24 17:23:13,703 | server.py:199 | evaluate_round: no clients selected, cancel\n",
      "INFO flower 2021-12-24 17:23:13,703 | server.py:172 | FL finished in 56.51300638400062\n",
      "INFO flower 2021-12-24 17:23:13,703 | app.py:119 | app_fit: losses_distributed []\n",
      "INFO flower 2021-12-24 17:23:13,704 | app.py:120 | app_fit: metrics_distributed {}\n",
      "INFO flower 2021-12-24 17:23:13,704 | app.py:121 | app_fit: losses_centralized [(0, 0.7207560539245605), (1, 0.6686300039291382), (2, 0.6349549293518066), (3, 0.5935975313186646), (4, 0.5413713455200195), (5, 0.48689746856689453)]\n",
      "INFO flower 2021-12-24 17:23:13,705 | app.py:122 | app_fit: metrics_centralized {'accuracy': [(0, 0.596794068813324), (1, 0.5487052798271179), (2, 0.5807644724845886), (3, 0.7398273944854736), (4, 0.7694204449653625), (5, 0.876695454120636)]}\n"
     ]
    }
   ],
   "source": [
    "fl.server.start_server(config={\"num_rounds\": 5}, strategy=strategy)"
   ]
  },
  {
   "cell_type": "code",
   "execution_count": 25,
   "id": "d99c0a20",
   "metadata": {},
   "outputs": [
    {
     "data": {
      "image/png": "[encoded data removed]",
      "text/plain": [
       "<Figure size 432x288 with 1 Axes>"
      ]
     },
     "metadata": {
      "needs_background": "light"
     },
     "output_type": "display_data"
    }
   ],
   "source": [
    "from matplotlib import pyplot as plt\n",
    "plt.plot(quantum_model_history['accuracy'])\n",
    "plt.plot(simple_model_history['accuracy'])\n",
    "plt.title('Models accuracy')\n",
    "plt.ylabel('Accuracy')\n",
    "plt.xlabel('Round')\n",
    "plt.legend(['QNN', 'SimpleNN'], loc='upper left')\n",
    "plt.show()"
   ]
  },
  {
   "cell_type": "code",
   "execution_count": 26,
   "id": "da7ef02f",
   "metadata": {},
   "outputs": [
    {
     "data": {
      "image/png": "[encoded data removed]",
      "text/plain": [
       "<Figure size 432x288 with 1 Axes>"
      ]
     },
     "metadata": {
      "needs_background": "light"
     },
     "output_type": "display_data"
    }
   ],
   "source": [
    "from matplotlib import pyplot as plt\n",
    "plt.plot(quantum_model_history['loss'])\n",
    "plt.plot(simple_model_history['loss'])\n",
    "plt.title('Models loss')\n",
    "plt.ylabel('Accuracy')\n",
    "plt.xlabel('Round')\n",
    "plt.legend(['QNN', 'SimpleNN'], loc='upper left')\n",
    "plt.show()"
   ]
  },
  {
   "cell_type": "code",
   "execution_count": null,
   "id": "da352831",
   "metadata": {},
   "outputs": [],
   "source": []
  }
 ],
 "metadata": {
  "kernelspec": {
   "display_name": "Python 3",
   "language": "python",
   "name": "python3"
  },
  "language_info": {
   "codemirror_mode": {
    "name": "ipython",
    "version": 3
   },
   "file_extension": ".py",
   "mimetype": "text/x-python",
   "name": "python",
   "nbconvert_exporter": "python",
   "pygments_lexer": "ipython3",
   "version": "3.7.11"
  }
 },
 "nbformat": 4,
 "nbformat_minor": 5
}
