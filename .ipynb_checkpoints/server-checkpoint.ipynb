{
 "cells": [
  {
   "cell_type": "code",
   "execution_count": 1,
   "id": "61402197",
   "metadata": {},
   "outputs": [],
   "source": [
    "import tensorflow as tf\n",
    "import tensorflow_quantum as tfq\n",
    "import flwr as fl\n",
    "from typing import Optional, Tuple\n",
    "\n",
    "import cirq\n",
    "import sympy\n",
    "import numpy as np\n",
    "import seaborn as sns\n",
    "import collections\n",
    "\n",
    "# visualization tools\n",
    "%matplotlib inline\n",
    "import matplotlib.pyplot as plt\n",
    "from cirq.contrib.svg import SVGCircuit\n",
    "\n",
    "tf.config.run_functions_eagerly(True)"
   ]
  },
  {
   "cell_type": "code",
   "execution_count": 2,
   "id": "97d5396d",
   "metadata": {},
   "outputs": [
    {
     "name": "stdout",
     "output_type": "stream",
     "text": [
      "Number of original training examples: 60000\n",
      "Number of original test examples: 4000\n"
     ]
    }
   ],
   "source": [
    "(x_train, y_train), (x_test, y_test) = tf.keras.datasets.mnist.load_data()\n",
    "x_test = x_test[6000:10000]\n",
    "y_test = y_test[6000:10000]\n",
    "\n",
    "\n",
    "x_train, x_test = x_train[..., np.newaxis]/255.0, x_test[..., np.newaxis]/255.0\n",
    "\n",
    "print(\"Number of original training examples:\", len(x_train))\n",
    "print(\"Number of original test examples:\", len(x_test))"
   ]
  },
  {
   "cell_type": "code",
   "execution_count": 3,
   "id": "dd7695a0",
   "metadata": {},
   "outputs": [],
   "source": [
    "def filter_36(x, y):\n",
    "    keep = (y == 3) | (y == 6)\n",
    "    x, y = x[keep], y[keep]\n",
    "    y = y == 3\n",
    "    return x,y"
   ]
  },
  {
   "cell_type": "code",
   "execution_count": 4,
   "id": "8e8c475d",
   "metadata": {},
   "outputs": [
    {
     "name": "stdout",
     "output_type": "stream",
     "text": [
      "Number of filtered training examples: 12049\n",
      "Number of filtered test examples: 811\n"
     ]
    }
   ],
   "source": [
    "x_train, y_train = filter_36(x_train, y_train)\n",
    "x_test, y_test = filter_36(x_test, y_test)\n",
    "\n",
    "print(\"Number of filtered training examples:\", len(x_train))\n",
    "print(\"Number of filtered test examples:\", len(x_test))"
   ]
  },
  {
   "cell_type": "code",
   "execution_count": 6,
   "id": "7759176f",
   "metadata": {},
   "outputs": [],
   "source": [
    "x_train_small = tf.image.resize(x_train, (4,4)).numpy()\n",
    "x_test_small = tf.image.resize(x_test, (4,4)).numpy()"
   ]
  },
  {
   "cell_type": "code",
   "execution_count": 8,
   "id": "7a410c04",
   "metadata": {},
   "outputs": [],
   "source": [
    "def remove_contradicting(xs, ys):\n",
    "    mapping = collections.defaultdict(set)\n",
    "    orig_x = {}\n",
    "    # Determine the set of labels for each unique image:\n",
    "    for x,y in zip(xs,ys):\n",
    "       orig_x[tuple(x.flatten())] = x\n",
    "       mapping[tuple(x.flatten())].add(y)\n",
    "\n",
    "    new_x = []\n",
    "    new_y = []\n",
    "    for flatten_x in mapping:\n",
    "      x = orig_x[flatten_x]\n",
    "      labels = mapping[flatten_x]\n",
    "      if len(labels) == 1:\n",
    "          new_x.append(x)\n",
    "          new_y.append(next(iter(labels)))\n",
    "      else:\n",
    "          # Throw out images that match more than one label.\n",
    "          pass\n",
    "\n",
    "    num_uniq_3 = sum(1 for value in mapping.values() if len(value) == 1 and True in value)\n",
    "    num_uniq_6 = sum(1 for value in mapping.values() if len(value) == 1 and False in value)\n",
    "    num_uniq_both = sum(1 for value in mapping.values() if len(value) == 2)\n",
    "\n",
    "    print(\"Number of unique images:\", len(mapping.values()))\n",
    "    print(\"Number of unique 3s: \", num_uniq_3)\n",
    "    print(\"Number of unique 6s: \", num_uniq_6)\n",
    "    print(\"Number of unique contradicting labels (both 3 and 6): \", num_uniq_both)\n",
    "    print()\n",
    "    print(\"Initial number of images: \", len(xs))\n",
    "    print(\"Remaining non-contradicting unique images: \", len(new_x))\n",
    "\n",
    "    return np.array(new_x), np.array(new_y)"
   ]
  },
  {
   "cell_type": "code",
   "execution_count": 9,
   "id": "80a62091",
   "metadata": {},
   "outputs": [
    {
     "name": "stdout",
     "output_type": "stream",
     "text": [
      "Number of unique images: 10387\n",
      "Number of unique 3s:  4912\n",
      "Number of unique 6s:  5426\n",
      "Number of unique contradicting labels (both 3 and 6):  49\n",
      "\n",
      "Initial number of images:  12049\n",
      "Remaining non-contradicting unique images:  10338\n"
     ]
    }
   ],
   "source": [
    "x_train_nocon, y_train_nocon = remove_contradicting(x_train_small, y_train)"
   ]
  },
  {
   "cell_type": "code",
   "execution_count": 10,
   "id": "f44e57e2",
   "metadata": {},
   "outputs": [],
   "source": [
    "THRESHOLD = 0.5\n",
    "\n",
    "x_train_bin = np.array(x_train_nocon > THRESHOLD, dtype=np.float32)\n",
    "x_test_bin = np.array(x_test_small > THRESHOLD, dtype=np.float32)"
   ]
  },
  {
   "cell_type": "code",
   "execution_count": 12,
   "id": "035bfbe5",
   "metadata": {},
   "outputs": [],
   "source": [
    "def convert_to_circuit(image):\n",
    "    \"\"\"Encode truncated classical image into quantum datapoint.\"\"\"\n",
    "    values = np.ndarray.flatten(image)\n",
    "    qubits = cirq.GridQubit.rect(4, 4)\n",
    "    circuit = cirq.Circuit()\n",
    "    for i, value in enumerate(values):\n",
    "        if value:\n",
    "            circuit.append(cirq.X(qubits[i]))\n",
    "    return circuit\n",
    "\n",
    "\n",
    "x_train_circ = [convert_to_circuit(x) for x in x_train_bin]\n",
    "x_test_circ = [convert_to_circuit(x) for x in x_test_bin]"
   ]
  },
  {
   "cell_type": "code",
   "execution_count": 15,
   "id": "640c0a0e",
   "metadata": {},
   "outputs": [],
   "source": [
    "x_train_tfcirc = tfq.convert_to_tensor(x_train_circ)\n",
    "x_test_tfcirc = tfq.convert_to_tensor(x_test_circ)"
   ]
  },
  {
   "cell_type": "code",
   "execution_count": 52,
   "id": "c6a083d8",
   "metadata": {},
   "outputs": [],
   "source": [
    "class CircuitLayerBuilder():\n",
    "    def __init__(self, data_qubits, readout):\n",
    "        self.data_qubits = data_qubits\n",
    "        self.readout = readout\n",
    "\n",
    "    def add_layer(self, circuit, gate, prefix):\n",
    "        for i, qubit in enumerate(self.data_qubits):\n",
    "            symbol = sympy.Symbol(prefix + '-' + str(i))\n",
    "            circuit.append(gate(qubit, self.readout)**symbol)"
   ]
  },
  {
   "cell_type": "code",
   "execution_count": 54,
   "id": "51b106b9",
   "metadata": {},
   "outputs": [],
   "source": [
    "def create_quantum_model():\n",
    "    \"\"\"Create a QNN model circuit and readout operation to go along with it.\"\"\"\n",
    "    data_qubits = cirq.GridQubit.rect(4, 4)  # a 4x4 grid.\n",
    "    readout = cirq.GridQubit(-1, -1)         # a single qubit at [-1,-1]\n",
    "    circuit = cirq.Circuit()\n",
    "\n",
    "    # Prepare the readout qubit.\n",
    "    circuit.append(cirq.X(readout))\n",
    "    circuit.append(cirq.H(readout))\n",
    "\n",
    "    builder = CircuitLayerBuilder(\n",
    "        data_qubits = data_qubits,\n",
    "        readout=readout)\n",
    "\n",
    "    # Then add layers (experiment by adding more).\n",
    "    builder.add_layer(circuit, cirq.XX, \"xx1\")\n",
    "    builder.add_layer(circuit, cirq.ZZ, \"zz1\")\n",
    "\n",
    "    # Finally, prepare the readout qubit.\n",
    "    circuit.append(cirq.H(readout))\n",
    "\n",
    "    return circuit, cirq.Z(readout)"
   ]
  },
  {
   "cell_type": "code",
   "execution_count": 55,
   "id": "62adf721",
   "metadata": {},
   "outputs": [],
   "source": [
    "model_circuit, model_readout = create_quantum_model()"
   ]
  },
  {
   "cell_type": "code",
   "execution_count": 56,
   "id": "93df27ab",
   "metadata": {},
   "outputs": [],
   "source": [
    "model = tf.keras.Sequential([\n",
    "    tf.keras.layers.Input(shape=(), dtype=tf.string),\n",
    "    tfq.layers.PQC(model_circuit, model_readout),\n",
    "])"
   ]
  },
  {
   "cell_type": "code",
   "execution_count": 57,
   "id": "4282b2ac",
   "metadata": {},
   "outputs": [],
   "source": [
    "y_train_hinge = 2.0*y_train_nocon-1.0\n",
    "y_test_hinge = 2.0*y_test-1.0"
   ]
  },
  {
   "cell_type": "code",
   "execution_count": 58,
   "id": "0f018ec5",
   "metadata": {},
   "outputs": [],
   "source": [
    "def hinge_accuracy(y_true, y_pred):\n",
    "    y_true = tf.squeeze(y_true) > 0.0\n",
    "    y_pred = tf.squeeze(y_pred) > 0.0\n",
    "    result = tf.cast(y_true == y_pred, tf.float32)\n",
    "\n",
    "    return tf.reduce_mean(result)"
   ]
  },
  {
   "cell_type": "code",
   "execution_count": 59,
   "id": "36eab521",
   "metadata": {},
   "outputs": [],
   "source": [
    "model.compile(\n",
    "    loss=tf.keras.losses.Hinge(),\n",
    "    optimizer=tf.keras.optimizers.Adam(),\n",
    "    metrics=[hinge_accuracy])"
   ]
  },
  {
   "cell_type": "code",
   "execution_count": 60,
   "id": "2decb834",
   "metadata": {},
   "outputs": [
    {
     "name": "stdout",
     "output_type": "stream",
     "text": [
      "Model: \"sequential_1\"\n",
      "_________________________________________________________________\n",
      "Layer (type)                 Output Shape              Param #   \n",
      "=================================================================\n",
      "pqc_1 (PQC)                  (None, 1)                 32        \n",
      "=================================================================\n",
      "Total params: 32\n",
      "Trainable params: 32\n",
      "Non-trainable params: 0\n",
      "_________________________________________________________________\n",
      "None\n"
     ]
    }
   ],
   "source": [
    "print(model.summary())"
   ]
  },
  {
   "cell_type": "code",
   "execution_count": 63,
   "id": "b8d8069b",
   "metadata": {},
   "outputs": [],
   "source": [
    "quantum_model_history = {'loss': [], 'accuracy': []}\n",
    "\n",
    "\n",
    "def get_eval_fn(model, x_test_data, y_test_data, model_history):\n",
    "    \"\"\"Return an evaluation function for server-side evaluation.\"\"\"\n",
    "    def evaluate(weights: fl.common.Weights) -> Optional[Tuple[float, float]]:\n",
    "        model.set_weights(weights)  # Update model with the latest parameters\n",
    "        loss, accuracy = model.evaluate(x_test_data, y_test_data)\n",
    "        model_history['loss'].append(loss)\n",
    "        model_history['accuracy'].append(accuracy)\n",
    "        return loss, {\"accuracy\": accuracy}\n",
    "\n",
    "    return evaluate\n",
    "\n",
    "\n",
    "strategy = fl.server.strategy.FedAvg(\n",
    "    eval_fn=get_eval_fn(model, x_test_tfcirc, y_test),\n",
    "    fraction_eval=0.2,\n",
    "    min_eval_clients=2,\n",
    "    min_available_clients=2,\n",
    ")"
   ]
  },
  {
   "cell_type": "code",
   "execution_count": 65,
   "id": "9ef1515a",
   "metadata": {},
   "outputs": [
    {
     "name": "stderr",
     "output_type": "stream",
     "text": [
      "INFO flower 2021-12-24 15:23:32,457 | app.py:80 | Flower server running (insecure, 5 rounds)\n",
      "INFO flower 2021-12-24 15:23:32,457 | server.py:118 | Initializing global parameters\n",
      "INFO flower 2021-12-24 15:23:32,457 | server.py:304 | Requesting initial parameters from one random client\n",
      "INFO flower 2021-12-24 15:23:48,579 | server.py:307 | Received initial parameters from one random client\n",
      "INFO flower 2021-12-24 15:23:48,580 | server.py:120 | Evaluating initial parameters\n"
     ]
    },
    {
     "name": "stdout",
     "output_type": "stream",
     "text": [
      "26/26 [==============================] - 2s 74ms/step - loss: 1.0136 - hinge_accuracy: 0.3909\n"
     ]
    },
    {
     "name": "stderr",
     "output_type": "stream",
     "text": [
      "INFO flower 2021-12-24 15:23:50,530 | server.py:127 | initial parameters (loss, other metrics): 1.0157755613327026, {'accuracy': 0.3838505446910858}\n",
      "INFO flower 2021-12-24 15:23:50,531 | server.py:133 | FL starting\n",
      "DEBUG flower 2021-12-24 15:24:01,882 | server.py:255 | fit_round: strategy sampled 2 clients (out of 2)\n",
      "DEBUG flower 2021-12-24 15:26:06,979 | server.py:264 | fit_round received 2 results and 0 failures\n"
     ]
    },
    {
     "name": "stdout",
     "output_type": "stream",
     "text": [
      "26/26 [==============================] - 2s 71ms/step - loss: 0.9997 - hinge_accuracy: 0.5460\n"
     ]
    },
    {
     "name": "stderr",
     "output_type": "stream",
     "text": [
      "INFO flower 2021-12-24 15:26:08,865 | server.py:154 | fit progress: (1, 0.9996570348739624, {'accuracy': 0.5460008978843689}, 138.3343628579987)\n",
      "INFO flower 2021-12-24 15:26:08,866 | server.py:199 | evaluate_round: no clients selected, cancel\n",
      "DEBUG flower 2021-12-24 15:26:08,866 | server.py:255 | fit_round: strategy sampled 2 clients (out of 2)\n",
      "DEBUG flower 2021-12-24 15:28:10,919 | server.py:264 | fit_round received 2 results and 0 failures\n"
     ]
    },
    {
     "name": "stdout",
     "output_type": "stream",
     "text": [
      "26/26 [==============================] - 2s 81ms/step - loss: 0.9698 - hinge_accuracy: 0.5220\n"
     ]
    },
    {
     "name": "stderr",
     "output_type": "stream",
     "text": [
      "INFO flower 2021-12-24 15:28:13,060 | server.py:154 | fit progress: (2, 0.9697707891464233, {'accuracy': 0.5219624042510986}, 262.5286173199984)\n",
      "INFO flower 2021-12-24 15:28:13,060 | server.py:199 | evaluate_round: no clients selected, cancel\n",
      "DEBUG flower 2021-12-24 15:28:13,061 | server.py:255 | fit_round: strategy sampled 2 clients (out of 2)\n",
      "DEBUG flower 2021-12-24 15:30:10,761 | server.py:264 | fit_round received 2 results and 0 failures\n"
     ]
    },
    {
     "name": "stdout",
     "output_type": "stream",
     "text": [
      "26/26 [==============================] - 2s 73ms/step - loss: 0.6828 - hinge_accuracy: 0.7118\n"
     ]
    },
    {
     "name": "stderr",
     "output_type": "stream",
     "text": [
      "INFO flower 2021-12-24 15:30:12,691 | server.py:154 | fit progress: (3, 0.68275386095047, {'accuracy': 0.7117570042610168}, 382.1601249859996)\n",
      "INFO flower 2021-12-24 15:30:12,692 | server.py:199 | evaluate_round: no clients selected, cancel\n",
      "DEBUG flower 2021-12-24 15:30:12,692 | server.py:255 | fit_round: strategy sampled 2 clients (out of 2)\n",
      "DEBUG flower 2021-12-24 15:32:08,386 | server.py:264 | fit_round received 2 results and 0 failures\n"
     ]
    },
    {
     "name": "stdout",
     "output_type": "stream",
     "text": [
      "26/26 [==============================] - 2s 74ms/step - loss: 0.3664 - hinge_accuracy: 0.8812\n"
     ]
    },
    {
     "name": "stderr",
     "output_type": "stream",
     "text": [
      "INFO flower 2021-12-24 15:32:10,335 | server.py:154 | fit progress: (4, 0.36644405126571655, {'accuracy': 0.8812281489372253}, 499.80389293199914)\n",
      "INFO flower 2021-12-24 15:32:10,335 | server.py:199 | evaluate_round: no clients selected, cancel\n",
      "DEBUG flower 2021-12-24 15:32:10,336 | server.py:255 | fit_round: strategy sampled 2 clients (out of 2)\n",
      "DEBUG flower 2021-12-24 15:34:06,589 | server.py:264 | fit_round received 2 results and 0 failures\n"
     ]
    },
    {
     "name": "stdout",
     "output_type": "stream",
     "text": [
      "26/26 [==============================] - 3s 98ms/step - loss: 0.3065 - hinge_accuracy: 0.8800\n"
     ]
    },
    {
     "name": "stderr",
     "output_type": "stream",
     "text": [
      "INFO flower 2021-12-24 15:34:09,160 | server.py:154 | fit progress: (5, 0.3065353333950043, {'accuracy': 0.8800262212753296}, 618.6294312949994)\n",
      "INFO flower 2021-12-24 15:34:09,161 | server.py:199 | evaluate_round: no clients selected, cancel\n",
      "INFO flower 2021-12-24 15:34:09,161 | server.py:172 | FL finished in 618.6303053599986\n",
      "INFO flower 2021-12-24 15:34:09,162 | app.py:119 | app_fit: losses_distributed []\n",
      "INFO flower 2021-12-24 15:34:09,162 | app.py:120 | app_fit: metrics_distributed {}\n",
      "INFO flower 2021-12-24 15:34:09,162 | app.py:121 | app_fit: losses_centralized [(0, 1.0157755613327026), (1, 0.9996570348739624), (2, 0.9697707891464233), (3, 0.68275386095047), (4, 0.36644405126571655), (5, 0.3065353333950043)]\n",
      "INFO flower 2021-12-24 15:34:09,163 | app.py:122 | app_fit: metrics_centralized {'accuracy': [(0, 0.3838505446910858), (1, 0.5460008978843689), (2, 0.5219624042510986), (3, 0.7117570042610168), (4, 0.8812281489372253), (5, 0.8800262212753296)]}\n"
     ]
    }
   ],
   "source": [
    "fl.server.start_server(config={\"num_rounds\": 5}, strategy=strategy)"
   ]
  },
  {
   "cell_type": "code",
   "execution_count": 16,
   "id": "4b213279",
   "metadata": {},
   "outputs": [],
   "source": [
    "def create_fair_classical_model():\n",
    "    # A simple model based off LeNet from https://keras.io/examples/mnist_cnn/\n",
    "    model = tf.keras.Sequential()\n",
    "    model.add(tf.keras.layers.Flatten(input_shape=(4,4,1)))\n",
    "    model.add(tf.keras.layers.Dense(2, activation='relu'))\n",
    "    model.add(tf.keras.layers.Dense(1))\n",
    "    return model\n",
    "\n",
    "\n",
    "model = create_fair_classical_model()\n",
    "model.compile(loss=tf.keras.losses.BinaryCrossentropy(from_logits=True),\n",
    "              optimizer=tf.keras.optimizers.Adam(),\n",
    "              metrics=['accuracy'])\n",
    "\n",
    "simple_model_history = {'loss': [], 'accuracy': []}\n",
    "\n",
    "\n",
    "strategy = fl.server.strategy.FedAvg(\n",
    "    eval_fn=get_eval_fn(model, x_test_bin, y_test, simple_model_history),\n",
    "    fraction_eval=0.2,\n",
    "    min_eval_clients=2,\n",
    "    min_available_clients=2,\n",
    ")"
   ]
  },
  {
   "cell_type": "code",
   "execution_count": 18,
   "id": "f20f3c77",
   "metadata": {},
   "outputs": [
    {
     "name": "stderr",
     "output_type": "stream",
     "text": [
      "INFO flower 2021-12-24 16:27:02,484 | app.py:80 | Flower server running (insecure, 5 rounds)\n",
      "INFO flower 2021-12-24 16:27:02,485 | server.py:118 | Initializing global parameters\n",
      "INFO flower 2021-12-24 16:27:02,486 | server.py:304 | Requesting initial parameters from one random client\n",
      "INFO flower 2021-12-24 16:27:28,976 | server.py:307 | Received initial parameters from one random client\n",
      "INFO flower 2021-12-24 16:27:28,976 | server.py:120 | Evaluating initial parameters\n"
     ]
    },
    {
     "name": "stdout",
     "output_type": "stream",
     "text": [
      "26/26 [==============================] - 0s 3ms/step - loss: 0.6914 - accuracy: 0.4817\n"
     ]
    },
    {
     "name": "stderr",
     "output_type": "stream",
     "text": [
      "/home/frost/anaconda3/envs/fqml/lib/python3.7/site-packages/tensorflow/python/data/ops/dataset_ops.py:3504: UserWarning: Even though the tf.config.experimental_run_functions_eagerly option is set, this option does not apply to tf.data functions. tf.data functions are still traced and executed as graphs.\n",
      "  \"Even though the tf.config.experimental_run_functions_eagerly \"\n",
      "INFO flower 2021-12-24 16:27:29,161 | server.py:127 | initial parameters (loss, other metrics): 0.6911640167236328, {'accuracy': 0.4882860779762268}\n",
      "INFO flower 2021-12-24 16:27:29,162 | server.py:133 | FL starting\n",
      "DEBUG flower 2021-12-24 16:27:55,693 | server.py:255 | fit_round: strategy sampled 2 clients (out of 2)\n",
      "DEBUG flower 2021-12-24 16:27:56,282 | server.py:264 | fit_round received 2 results and 0 failures\n"
     ]
    },
    {
     "name": "stdout",
     "output_type": "stream",
     "text": [
      "26/26 [==============================] - 0s 3ms/step - loss: 0.6886 - accuracy: 0.4883\n"
     ]
    },
    {
     "name": "stderr",
     "output_type": "stream",
     "text": [
      "INFO flower 2021-12-24 16:27:56,388 | server.py:154 | fit progress: (1, 0.6886425614356995, {'accuracy': 0.4882860779762268}, 27.22556137799984)\n",
      "INFO flower 2021-12-24 16:27:56,388 | server.py:199 | evaluate_round: no clients selected, cancel\n",
      "DEBUG flower 2021-12-24 16:27:56,388 | server.py:255 | fit_round: strategy sampled 2 clients (out of 2)\n",
      "DEBUG flower 2021-12-24 16:27:56,652 | server.py:264 | fit_round received 2 results and 0 failures\n"
     ]
    },
    {
     "name": "stdout",
     "output_type": "stream",
     "text": [
      "26/26 [==============================] - 0s 4ms/step - loss: 0.6856 - accuracy: 0.4883\n"
     ]
    },
    {
     "name": "stderr",
     "output_type": "stream",
     "text": [
      "INFO flower 2021-12-24 16:27:56,783 | server.py:154 | fit progress: (2, 0.6855823993682861, {'accuracy': 0.4882860779762268}, 27.62114687600115)\n",
      "INFO flower 2021-12-24 16:27:56,784 | server.py:199 | evaluate_round: no clients selected, cancel\n",
      "DEBUG flower 2021-12-24 16:27:56,784 | server.py:255 | fit_round: strategy sampled 2 clients (out of 2)\n",
      "DEBUG flower 2021-12-24 16:27:57,032 | server.py:264 | fit_round received 2 results and 0 failures\n"
     ]
    },
    {
     "name": "stdout",
     "output_type": "stream",
     "text": [
      "26/26 [==============================] - 0s 3ms/step - loss: 0.6807 - accuracy: 0.4883\n"
     ]
    },
    {
     "name": "stderr",
     "output_type": "stream",
     "text": [
      "INFO flower 2021-12-24 16:27:57,138 | server.py:154 | fit progress: (3, 0.6807022094726562, {'accuracy': 0.4882860779762268}, 27.9763766140004)\n",
      "INFO flower 2021-12-24 16:27:57,139 | server.py:199 | evaluate_round: no clients selected, cancel\n",
      "DEBUG flower 2021-12-24 16:27:57,139 | server.py:255 | fit_round: strategy sampled 2 clients (out of 2)\n",
      "DEBUG flower 2021-12-24 16:27:57,381 | server.py:264 | fit_round received 2 results and 0 failures\n"
     ]
    },
    {
     "name": "stdout",
     "output_type": "stream",
     "text": [
      "26/26 [==============================] - 0s 3ms/step - loss: 0.6746 - accuracy: 0.4883\n"
     ]
    },
    {
     "name": "stderr",
     "output_type": "stream",
     "text": [
      "INFO flower 2021-12-24 16:27:57,481 | server.py:154 | fit progress: (4, 0.6746236085891724, {'accuracy': 0.4882860779762268}, 28.319192856000882)\n",
      "INFO flower 2021-12-24 16:27:57,482 | server.py:199 | evaluate_round: no clients selected, cancel\n",
      "DEBUG flower 2021-12-24 16:27:57,482 | server.py:255 | fit_round: strategy sampled 2 clients (out of 2)\n",
      "DEBUG flower 2021-12-24 16:27:57,720 | server.py:264 | fit_round received 2 results and 0 failures\n"
     ]
    },
    {
     "name": "stdout",
     "output_type": "stream",
     "text": [
      "26/26 [==============================] - 0s 3ms/step - loss: 0.6673 - accuracy: 0.4883\n"
     ]
    },
    {
     "name": "stderr",
     "output_type": "stream",
     "text": [
      "INFO flower 2021-12-24 16:27:57,822 | server.py:154 | fit progress: (5, 0.667334794998169, {'accuracy': 0.4882860779762268}, 28.659764197000186)\n",
      "INFO flower 2021-12-24 16:27:57,822 | server.py:199 | evaluate_round: no clients selected, cancel\n",
      "INFO flower 2021-12-24 16:27:57,823 | server.py:172 | FL finished in 28.66055929200047\n",
      "INFO flower 2021-12-24 16:27:57,823 | app.py:119 | app_fit: losses_distributed []\n",
      "INFO flower 2021-12-24 16:27:57,823 | app.py:120 | app_fit: metrics_distributed {}\n",
      "INFO flower 2021-12-24 16:27:57,823 | app.py:121 | app_fit: losses_centralized [(0, 0.6911640167236328), (1, 0.6886425614356995), (2, 0.6855823993682861), (3, 0.6807022094726562), (4, 0.6746236085891724), (5, 0.667334794998169)]\n",
      "INFO flower 2021-12-24 16:27:57,824 | app.py:122 | app_fit: metrics_centralized {'accuracy': [(0, 0.4882860779762268), (1, 0.4882860779762268), (2, 0.4882860779762268), (3, 0.4882860779762268), (4, 0.4882860779762268), (5, 0.4882860779762268)]}\n"
     ]
    }
   ],
   "source": [
    "fl.server.start_server(config={\"num_rounds\": 5}, strategy=strategy)"
   ]
  },
  {
   "cell_type": "code",
   "execution_count": null,
   "id": "d99c0a20",
   "metadata": {},
   "outputs": [],
   "source": []
  }
 ],
 "metadata": {
  "kernelspec": {
   "display_name": "Python 3",
   "language": "python",
   "name": "python3"
  },
  "language_info": {
   "codemirror_mode": {
    "name": "ipython",
    "version": 3
   },
   "file_extension": ".py",
   "mimetype": "text/x-python",
   "name": "python",
   "nbconvert_exporter": "python",
   "pygments_lexer": "ipython3",
   "version": "3.7.11"
  }
 },
 "nbformat": 4,
 "nbformat_minor": 5
}
